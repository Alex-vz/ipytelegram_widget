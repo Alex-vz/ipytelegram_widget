{
 "cells": [
  {
   "cell_type": "code",
   "execution_count": 1,
   "id": "38ee8bf9-0a2e-4668-8d2a-1d1c41b9ea9b",
   "metadata": {},
   "outputs": [],
   "source": [
    "import ipytelegram_widget"
   ]
  },
  {
   "cell_type": "code",
   "execution_count": 2,
   "id": "5e14df16-f189-4795-97bc-87692359e25b",
   "metadata": {},
   "outputs": [
    {
     "data": {
      "application/vnd.jupyter.widget-view+json": {
       "model_id": "36e4d322e36540eb9401d3887c689f1d",
       "version_major": 2,
       "version_minor": 0
      },
      "text/plain": [
       "Telegram()"
      ]
     },
     "metadata": {},
     "output_type": "display_data"
    }
   ],
   "source": [
    "w = ipytelegram_widget.Telegram()\n",
    "w"
   ]
  },
  {
   "cell_type": "code",
   "execution_count": 6,
   "id": "981462e1-6a1b-482d-b432-75f52866345f",
   "metadata": {},
   "outputs": [
    {
     "data": {
      "text/plain": [
       "\u001b[0;31mType:\u001b[0m        module\n",
       "\u001b[0;31mString form:\u001b[0m <module 'ipytelegram_widget.example' from '/home/alex/zwork1/data/ipytelegram_widget/ipytelegram_widget/example.py'>\n",
       "\u001b[0;31mFile:\u001b[0m        ~/zwork1/data/ipytelegram_widget/ipytelegram_widget/example.py\n",
       "\u001b[0;31mDocstring:\u001b[0m   <no docstring>\n"
      ]
     },
     "metadata": {},
     "output_type": "display_data"
    }
   ],
   "source": [
    "?ipytelegram_widget.example"
   ]
  },
  {
   "cell_type": "code",
   "execution_count": null,
   "id": "04194c0f-fbbb-4511-a7db-5b3079368005",
   "metadata": {},
   "outputs": [],
   "source": []
  }
 ],
 "metadata": {
  "kernelspec": {
   "display_name": "Python 3 (ipykernel)",
   "language": "python",
   "name": "python3"
  },
  "language_info": {
   "codemirror_mode": {
    "name": "ipython",
    "version": 3
   },
   "file_extension": ".py",
   "mimetype": "text/x-python",
   "name": "python",
   "nbconvert_exporter": "python",
   "pygments_lexer": "ipython3",
   "version": "3.8.9"
  }
 },
 "nbformat": 4,
 "nbformat_minor": 5
}
